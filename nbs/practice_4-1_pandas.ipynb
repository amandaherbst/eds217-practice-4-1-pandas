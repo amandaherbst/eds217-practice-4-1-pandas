{
 "cells": [
  {
   "cell_type": "code",
   "execution_count": 27,
   "metadata": {},
   "outputs": [],
   "source": [
    "import numpy as np\n",
    "import matplotlib.pyplot as plt\n",
    "import pandas as pd\n"
   ]
  },
  {
   "cell_type": "markdown",
   "metadata": {},
   "source": [
    "# Practice 1"
   ]
  },
  {
   "cell_type": "code",
   "execution_count": 2,
   "metadata": {},
   "outputs": [],
   "source": [
    "data_url = \"https://raw.githubusercontent.com/environmental-data-science\" \\\n",
    "            \"/eds217_2023/main/data/BSRN_GOB_2019-10.csv\"\n",
    "\n",
    "bsrn = pd.read_csv(data_url)"
   ]
  },
  {
   "cell_type": "markdown",
   "metadata": {},
   "source": [
    "# Practice 2\n",
    "a. Print a list of your DataFrame's column names"
   ]
  },
  {
   "cell_type": "code",
   "execution_count": 3,
   "metadata": {},
   "outputs": [
    {
     "name": "stdout",
     "output_type": "stream",
     "text": [
      "['DATE', 'H_m', 'SWD_Wm2', 'STD_SWD', 'DIR_Wm2', 'STD_DIR', 'DIF_Wm2', 'STD_DIF', 'LWD_Wm2', 'STD_LWD', 'SWU_Wm2', 'LWU_Wm2', 'T_degC', 'RH', 'P_hPa']\n"
     ]
    }
   ],
   "source": [
    "print(list(bsrn.columns))"
   ]
  },
  {
   "cell_type": "markdown",
   "metadata": {},
   "source": [
    "b. How many values are there in the entire DataFrame?"
   ]
  },
  {
   "cell_type": "code",
   "execution_count": 4,
   "metadata": {},
   "outputs": [
    {
     "name": "stdout",
     "output_type": "stream",
     "text": [
      "<class 'pandas.core.frame.DataFrame'>\n",
      "RangeIndex: 44640 entries, 0 to 44639\n",
      "Data columns (total 15 columns):\n",
      " #   Column   Non-Null Count  Dtype  \n",
      "---  ------   --------------  -----  \n",
      " 0   DATE     44640 non-null  object \n",
      " 1   H_m      44640 non-null  int64  \n",
      " 2   SWD_Wm2  44630 non-null  float64\n",
      " 3   STD_SWD  44637 non-null  float64\n",
      " 4   DIR_Wm2  44623 non-null  float64\n",
      " 5   STD_DIR  44623 non-null  float64\n",
      " 6   DIF_Wm2  44632 non-null  float64\n",
      " 7   STD_DIF  44632 non-null  float64\n",
      " 8   LWD_Wm2  44589 non-null  float64\n",
      " 9   STD_LWD  44637 non-null  float64\n",
      " 10  SWU_Wm2  44640 non-null  int64  \n",
      " 11  LWU_Wm2  44640 non-null  int64  \n",
      " 12  T_degC   44640 non-null  float64\n",
      " 13  RH       44640 non-null  float64\n",
      " 14  P_hPa    44640 non-null  int64  \n",
      "dtypes: float64(10), int64(4), object(1)\n",
      "memory usage: 5.1+ MB\n"
     ]
    }
   ],
   "source": [
    "bsrn.info()"
   ]
  },
  {
   "cell_type": "markdown",
   "metadata": {},
   "source": [
    "c. What is the data type of the first column?"
   ]
  },
  {
   "cell_type": "code",
   "execution_count": 5,
   "metadata": {},
   "outputs": [
    {
     "data": {
      "text/plain": [
       "DATE    object\n",
       "dtype: object"
      ]
     },
     "execution_count": 5,
     "metadata": {},
     "output_type": "execute_result"
    }
   ],
   "source": [
    "bsrn[['DATE']].dtypes"
   ]
  },
  {
   "cell_type": "code",
   "execution_count": 6,
   "metadata": {},
   "outputs": [
    {
     "data": {
      "text/plain": [
       "pandas.core.series.Series"
      ]
     },
     "execution_count": 6,
     "metadata": {},
     "output_type": "execute_result"
    }
   ],
   "source": [
    "type(bsrn.iloc[:,0])"
   ]
  },
  {
   "cell_type": "markdown",
   "metadata": {},
   "source": [
    "# Practice 3\n",
    "a. Create a new DataFrame containing the first record for each day and the following columns: the timestamp of the record, incoming shortwave radiation, direct and diffuse radiation, and incoming longwave radiation. (Hint: the BSRN station collects data every minute)."
   ]
  },
  {
   "cell_type": "code",
   "execution_count": 7,
   "metadata": {},
   "outputs": [],
   "source": [
    "# 1440 minutes in a day\n",
    "bsrn_practice_3 = bsrn.loc[::1440][\n",
    "    ['DATE', 'SWD_Wm2', 'DIR_Wm2', 'DIF_Wm2','LWD_Wm2']\n",
    "]"
   ]
  },
  {
   "cell_type": "markdown",
   "metadata": {},
   "source": [
    "b. Create a new Series containing the temperature values every hour at the top of the hour."
   ]
  },
  {
   "cell_type": "code",
   "execution_count": 8,
   "metadata": {},
   "outputs": [
    {
     "data": {
      "text/plain": [
       "pandas.core.series.Series"
      ]
     },
     "execution_count": 8,
     "metadata": {},
     "output_type": "execute_result"
    }
   ],
   "source": [
    "temp_every_hour = pd.Series(bsrn.loc[::60, 'T_degC'])\n",
    "\n",
    "type(temp_every_hour)"
   ]
  },
  {
   "cell_type": "markdown",
   "metadata": {},
   "source": [
    "c. Convert the DATE column to datetime using the pd.to_datetime() function."
   ]
  },
  {
   "cell_type": "code",
   "execution_count": 9,
   "metadata": {},
   "outputs": [],
   "source": [
    "bsrn_practice_3['DATE'] = pd.to_datetime(bsrn_practice_3['DATE'])"
   ]
  },
  {
   "cell_type": "code",
   "execution_count": 10,
   "metadata": {},
   "outputs": [
    {
     "name": "stdout",
     "output_type": "stream",
     "text": [
      "<class 'pandas.core.frame.DataFrame'>\n",
      "RangeIndex: 31 entries, 0 to 43200\n",
      "Data columns (total 5 columns):\n",
      " #   Column   Non-Null Count  Dtype         \n",
      "---  ------   --------------  -----         \n",
      " 0   DATE     31 non-null     datetime64[ns]\n",
      " 1   SWD_Wm2  31 non-null     float64       \n",
      " 2   DIR_Wm2  31 non-null     float64       \n",
      " 3   DIF_Wm2  31 non-null     float64       \n",
      " 4   LWD_Wm2  31 non-null     float64       \n",
      "dtypes: datetime64[ns](1), float64(4)\n",
      "memory usage: 1.3 KB\n"
     ]
    }
   ],
   "source": [
    "bsrn_practice_3.info() # checking that it was converted"
   ]
  },
  {
   "cell_type": "markdown",
   "metadata": {},
   "source": [
    "d. Set the DATE column as the index of the DataFrame using the set_index() method."
   ]
  },
  {
   "cell_type": "code",
   "execution_count": 11,
   "metadata": {},
   "outputs": [],
   "source": [
    "bsrn_practice_3.set_index('DATE', inplace = True)"
   ]
  },
  {
   "cell_type": "code",
   "execution_count": 12,
   "metadata": {},
   "outputs": [
    {
     "data": {
      "text/html": [
       "<div>\n",
       "<style scoped>\n",
       "    .dataframe tbody tr th:only-of-type {\n",
       "        vertical-align: middle;\n",
       "    }\n",
       "\n",
       "    .dataframe tbody tr th {\n",
       "        vertical-align: top;\n",
       "    }\n",
       "\n",
       "    .dataframe thead th {\n",
       "        text-align: right;\n",
       "    }\n",
       "</style>\n",
       "<table border=\"1\" class=\"dataframe\">\n",
       "  <thead>\n",
       "    <tr style=\"text-align: right;\">\n",
       "      <th></th>\n",
       "      <th>SWD_Wm2</th>\n",
       "      <th>DIR_Wm2</th>\n",
       "      <th>DIF_Wm2</th>\n",
       "      <th>LWD_Wm2</th>\n",
       "    </tr>\n",
       "    <tr>\n",
       "      <th>DATE</th>\n",
       "      <th></th>\n",
       "      <th></th>\n",
       "      <th></th>\n",
       "      <th></th>\n",
       "    </tr>\n",
       "  </thead>\n",
       "  <tbody>\n",
       "    <tr>\n",
       "      <th>2019-10-01</th>\n",
       "      <td>-3.0</td>\n",
       "      <td>0.0</td>\n",
       "      <td>-3.0</td>\n",
       "      <td>300.0</td>\n",
       "    </tr>\n",
       "    <tr>\n",
       "      <th>2019-10-02</th>\n",
       "      <td>-2.0</td>\n",
       "      <td>0.0</td>\n",
       "      <td>-2.0</td>\n",
       "      <td>306.0</td>\n",
       "    </tr>\n",
       "    <tr>\n",
       "      <th>2019-10-03</th>\n",
       "      <td>-2.0</td>\n",
       "      <td>0.0</td>\n",
       "      <td>-2.0</td>\n",
       "      <td>293.0</td>\n",
       "    </tr>\n",
       "    <tr>\n",
       "      <th>2019-10-04</th>\n",
       "      <td>-3.0</td>\n",
       "      <td>0.0</td>\n",
       "      <td>-3.0</td>\n",
       "      <td>287.0</td>\n",
       "    </tr>\n",
       "    <tr>\n",
       "      <th>2019-10-05</th>\n",
       "      <td>-2.0</td>\n",
       "      <td>0.0</td>\n",
       "      <td>-2.0</td>\n",
       "      <td>305.0</td>\n",
       "    </tr>\n",
       "  </tbody>\n",
       "</table>\n",
       "</div>"
      ],
      "text/plain": [
       "            SWD_Wm2  DIR_Wm2  DIF_Wm2  LWD_Wm2\n",
       "DATE                                          \n",
       "2019-10-01     -3.0      0.0     -3.0    300.0\n",
       "2019-10-02     -2.0      0.0     -2.0    306.0\n",
       "2019-10-03     -2.0      0.0     -2.0    293.0\n",
       "2019-10-04     -3.0      0.0     -3.0    287.0\n",
       "2019-10-05     -2.0      0.0     -2.0    305.0"
      ]
     },
     "execution_count": 12,
     "metadata": {},
     "output_type": "execute_result"
    }
   ],
   "source": [
    "bsrn_practice_3.head()"
   ]
  },
  {
   "cell_type": "markdown",
   "metadata": {},
   "source": [
    "# Practice 4\n",
    "Calculate the mean incoming shortwave, outgoing shortwave, incoming longwave, and outgoing longwace radiation over the entire month"
   ]
  },
  {
   "cell_type": "code",
   "execution_count": 13,
   "metadata": {},
   "outputs": [
    {
     "data": {
      "text/plain": [
       "SWD_Wm2    318.046516\n",
       "SWU_Wm2    110.445004\n",
       "LWD_Wm2    342.350692\n",
       "LWU_Wm2    455.054032\n",
       "dtype: float64"
      ]
     },
     "execution_count": 13,
     "metadata": {},
     "output_type": "execute_result"
    }
   ],
   "source": [
    "cols = ['SWD_Wm2', 'SWU_Wm2', 'LWD_Wm2', 'LWU_Wm2']\n",
    "\n",
    "bsrn[cols].mean()"
   ]
  },
  {
   "cell_type": "markdown",
   "metadata": {},
   "source": [
    "# Practice 5\n",
    "a. Add a column ‘NET_SW’ to bsrn with the net shortwave radiation."
   ]
  },
  {
   "cell_type": "code",
   "execution_count": 14,
   "metadata": {},
   "outputs": [
    {
     "data": {
      "text/html": [
       "<div>\n",
       "<style scoped>\n",
       "    .dataframe tbody tr th:only-of-type {\n",
       "        vertical-align: middle;\n",
       "    }\n",
       "\n",
       "    .dataframe tbody tr th {\n",
       "        vertical-align: top;\n",
       "    }\n",
       "\n",
       "    .dataframe thead th {\n",
       "        text-align: right;\n",
       "    }\n",
       "</style>\n",
       "<table border=\"1\" class=\"dataframe\">\n",
       "  <thead>\n",
       "    <tr style=\"text-align: right;\">\n",
       "      <th></th>\n",
       "      <th>DATE</th>\n",
       "      <th>H_m</th>\n",
       "      <th>SWD_Wm2</th>\n",
       "      <th>STD_SWD</th>\n",
       "      <th>DIR_Wm2</th>\n",
       "      <th>STD_DIR</th>\n",
       "      <th>DIF_Wm2</th>\n",
       "      <th>STD_DIF</th>\n",
       "      <th>LWD_Wm2</th>\n",
       "      <th>STD_LWD</th>\n",
       "      <th>SWU_Wm2</th>\n",
       "      <th>LWU_Wm2</th>\n",
       "      <th>T_degC</th>\n",
       "      <th>RH</th>\n",
       "      <th>P_hPa</th>\n",
       "      <th>NET_SW</th>\n",
       "    </tr>\n",
       "  </thead>\n",
       "  <tbody>\n",
       "    <tr>\n",
       "      <th>44635</th>\n",
       "      <td>2019-10-31 23:55:00</td>\n",
       "      <td>2</td>\n",
       "      <td>-2.0</td>\n",
       "      <td>0.0</td>\n",
       "      <td>0.0</td>\n",
       "      <td>0.0</td>\n",
       "      <td>-2.0</td>\n",
       "      <td>0.0</td>\n",
       "      <td>380.0</td>\n",
       "      <td>0.1</td>\n",
       "      <td>0</td>\n",
       "      <td>423</td>\n",
       "      <td>23.0</td>\n",
       "      <td>35.6</td>\n",
       "      <td>964</td>\n",
       "      <td>-2.0</td>\n",
       "    </tr>\n",
       "    <tr>\n",
       "      <th>44636</th>\n",
       "      <td>2019-10-31 23:56:00</td>\n",
       "      <td>2</td>\n",
       "      <td>-2.0</td>\n",
       "      <td>0.0</td>\n",
       "      <td>0.0</td>\n",
       "      <td>0.0</td>\n",
       "      <td>-2.0</td>\n",
       "      <td>0.0</td>\n",
       "      <td>380.0</td>\n",
       "      <td>0.1</td>\n",
       "      <td>0</td>\n",
       "      <td>423</td>\n",
       "      <td>23.1</td>\n",
       "      <td>35.5</td>\n",
       "      <td>964</td>\n",
       "      <td>-2.0</td>\n",
       "    </tr>\n",
       "    <tr>\n",
       "      <th>44637</th>\n",
       "      <td>2019-10-31 23:57:00</td>\n",
       "      <td>2</td>\n",
       "      <td>-2.0</td>\n",
       "      <td>0.0</td>\n",
       "      <td>0.0</td>\n",
       "      <td>0.0</td>\n",
       "      <td>-2.0</td>\n",
       "      <td>0.0</td>\n",
       "      <td>380.0</td>\n",
       "      <td>0.1</td>\n",
       "      <td>0</td>\n",
       "      <td>423</td>\n",
       "      <td>23.0</td>\n",
       "      <td>35.3</td>\n",
       "      <td>964</td>\n",
       "      <td>-2.0</td>\n",
       "    </tr>\n",
       "    <tr>\n",
       "      <th>44638</th>\n",
       "      <td>2019-10-31 23:58:00</td>\n",
       "      <td>2</td>\n",
       "      <td>-2.0</td>\n",
       "      <td>0.0</td>\n",
       "      <td>0.0</td>\n",
       "      <td>0.0</td>\n",
       "      <td>-2.0</td>\n",
       "      <td>0.0</td>\n",
       "      <td>381.0</td>\n",
       "      <td>0.2</td>\n",
       "      <td>0</td>\n",
       "      <td>423</td>\n",
       "      <td>23.0</td>\n",
       "      <td>35.2</td>\n",
       "      <td>964</td>\n",
       "      <td>-2.0</td>\n",
       "    </tr>\n",
       "    <tr>\n",
       "      <th>44639</th>\n",
       "      <td>2019-10-31 23:59:00</td>\n",
       "      <td>2</td>\n",
       "      <td>-2.0</td>\n",
       "      <td>0.0</td>\n",
       "      <td>0.0</td>\n",
       "      <td>0.0</td>\n",
       "      <td>-2.0</td>\n",
       "      <td>0.0</td>\n",
       "      <td>381.0</td>\n",
       "      <td>0.1</td>\n",
       "      <td>0</td>\n",
       "      <td>423</td>\n",
       "      <td>23.1</td>\n",
       "      <td>35.0</td>\n",
       "      <td>964</td>\n",
       "      <td>-2.0</td>\n",
       "    </tr>\n",
       "  </tbody>\n",
       "</table>\n",
       "</div>"
      ],
      "text/plain": [
       "                      DATE  H_m  SWD_Wm2  STD_SWD  DIR_Wm2  STD_DIR  DIF_Wm2  \\\n",
       "44635  2019-10-31 23:55:00    2     -2.0      0.0      0.0      0.0     -2.0   \n",
       "44636  2019-10-31 23:56:00    2     -2.0      0.0      0.0      0.0     -2.0   \n",
       "44637  2019-10-31 23:57:00    2     -2.0      0.0      0.0      0.0     -2.0   \n",
       "44638  2019-10-31 23:58:00    2     -2.0      0.0      0.0      0.0     -2.0   \n",
       "44639  2019-10-31 23:59:00    2     -2.0      0.0      0.0      0.0     -2.0   \n",
       "\n",
       "       STD_DIF  LWD_Wm2  STD_LWD  SWU_Wm2  LWU_Wm2  T_degC    RH  P_hPa  \\\n",
       "44635      0.0    380.0      0.1        0      423    23.0  35.6    964   \n",
       "44636      0.0    380.0      0.1        0      423    23.1  35.5    964   \n",
       "44637      0.0    380.0      0.1        0      423    23.0  35.3    964   \n",
       "44638      0.0    381.0      0.2        0      423    23.0  35.2    964   \n",
       "44639      0.0    381.0      0.1        0      423    23.1  35.0    964   \n",
       "\n",
       "       NET_SW  \n",
       "44635    -2.0  \n",
       "44636    -2.0  \n",
       "44637    -2.0  \n",
       "44638    -2.0  \n",
       "44639    -2.0  "
      ]
     },
     "execution_count": 14,
     "metadata": {},
     "output_type": "execute_result"
    }
   ],
   "source": [
    "bsrn['NET_SW'] = bsrn['SWD_Wm2'] - bsrn['SWU_Wm2'] # incoming - outgoing\n",
    "bsrn.tail()"
   ]
  },
  {
   "cell_type": "markdown",
   "metadata": {},
   "source": [
    "b. Add a column ‘NET_LW’ to bsrn with the net longwave radiation."
   ]
  },
  {
   "cell_type": "code",
   "execution_count": 15,
   "metadata": {},
   "outputs": [],
   "source": [
    "bsrn['NET_LW'] = bsrn['LWD_Wm2'] - bsrn['LWU_Wm2']"
   ]
  },
  {
   "cell_type": "markdown",
   "metadata": {},
   "source": [
    "c. Add a column ‘NET_RAD’ to bsrn with the net total radiation."
   ]
  },
  {
   "cell_type": "code",
   "execution_count": 16,
   "metadata": {},
   "outputs": [
    {
     "data": {
      "text/html": [
       "<div>\n",
       "<style scoped>\n",
       "    .dataframe tbody tr th:only-of-type {\n",
       "        vertical-align: middle;\n",
       "    }\n",
       "\n",
       "    .dataframe tbody tr th {\n",
       "        vertical-align: top;\n",
       "    }\n",
       "\n",
       "    .dataframe thead th {\n",
       "        text-align: right;\n",
       "    }\n",
       "</style>\n",
       "<table border=\"1\" class=\"dataframe\">\n",
       "  <thead>\n",
       "    <tr style=\"text-align: right;\">\n",
       "      <th></th>\n",
       "      <th>DATE</th>\n",
       "      <th>H_m</th>\n",
       "      <th>SWD_Wm2</th>\n",
       "      <th>STD_SWD</th>\n",
       "      <th>DIR_Wm2</th>\n",
       "      <th>STD_DIR</th>\n",
       "      <th>DIF_Wm2</th>\n",
       "      <th>STD_DIF</th>\n",
       "      <th>LWD_Wm2</th>\n",
       "      <th>STD_LWD</th>\n",
       "      <th>SWU_Wm2</th>\n",
       "      <th>LWU_Wm2</th>\n",
       "      <th>T_degC</th>\n",
       "      <th>RH</th>\n",
       "      <th>P_hPa</th>\n",
       "      <th>NET_SW</th>\n",
       "      <th>NET_LW</th>\n",
       "      <th>NET_RAD</th>\n",
       "    </tr>\n",
       "  </thead>\n",
       "  <tbody>\n",
       "    <tr>\n",
       "      <th>0</th>\n",
       "      <td>2019-10-01 00:00:00</td>\n",
       "      <td>2</td>\n",
       "      <td>-3.0</td>\n",
       "      <td>0.0</td>\n",
       "      <td>0.0</td>\n",
       "      <td>0.0</td>\n",
       "      <td>-3.0</td>\n",
       "      <td>0.0</td>\n",
       "      <td>300.0</td>\n",
       "      <td>0.1</td>\n",
       "      <td>0</td>\n",
       "      <td>383</td>\n",
       "      <td>16.2</td>\n",
       "      <td>30.7</td>\n",
       "      <td>966</td>\n",
       "      <td>-3.0</td>\n",
       "      <td>-83.0</td>\n",
       "      <td>-86.0</td>\n",
       "    </tr>\n",
       "    <tr>\n",
       "      <th>1</th>\n",
       "      <td>2019-10-01 00:01:00</td>\n",
       "      <td>2</td>\n",
       "      <td>-3.0</td>\n",
       "      <td>0.0</td>\n",
       "      <td>0.0</td>\n",
       "      <td>0.0</td>\n",
       "      <td>-3.0</td>\n",
       "      <td>0.0</td>\n",
       "      <td>300.0</td>\n",
       "      <td>0.3</td>\n",
       "      <td>0</td>\n",
       "      <td>383</td>\n",
       "      <td>16.4</td>\n",
       "      <td>30.7</td>\n",
       "      <td>966</td>\n",
       "      <td>-3.0</td>\n",
       "      <td>-83.0</td>\n",
       "      <td>-86.0</td>\n",
       "    </tr>\n",
       "    <tr>\n",
       "      <th>2</th>\n",
       "      <td>2019-10-01 00:02:00</td>\n",
       "      <td>2</td>\n",
       "      <td>-3.0</td>\n",
       "      <td>0.0</td>\n",
       "      <td>0.0</td>\n",
       "      <td>0.0</td>\n",
       "      <td>-3.0</td>\n",
       "      <td>0.0</td>\n",
       "      <td>300.0</td>\n",
       "      <td>0.2</td>\n",
       "      <td>0</td>\n",
       "      <td>383</td>\n",
       "      <td>16.5</td>\n",
       "      <td>30.5</td>\n",
       "      <td>966</td>\n",
       "      <td>-3.0</td>\n",
       "      <td>-83.0</td>\n",
       "      <td>-86.0</td>\n",
       "    </tr>\n",
       "    <tr>\n",
       "      <th>3</th>\n",
       "      <td>2019-10-01 00:03:00</td>\n",
       "      <td>2</td>\n",
       "      <td>-3.0</td>\n",
       "      <td>0.0</td>\n",
       "      <td>0.0</td>\n",
       "      <td>0.0</td>\n",
       "      <td>-3.0</td>\n",
       "      <td>0.0</td>\n",
       "      <td>300.0</td>\n",
       "      <td>0.1</td>\n",
       "      <td>0</td>\n",
       "      <td>383</td>\n",
       "      <td>16.5</td>\n",
       "      <td>30.4</td>\n",
       "      <td>966</td>\n",
       "      <td>-3.0</td>\n",
       "      <td>-83.0</td>\n",
       "      <td>-86.0</td>\n",
       "    </tr>\n",
       "    <tr>\n",
       "      <th>4</th>\n",
       "      <td>2019-10-01 00:04:00</td>\n",
       "      <td>2</td>\n",
       "      <td>-3.0</td>\n",
       "      <td>0.0</td>\n",
       "      <td>0.0</td>\n",
       "      <td>0.0</td>\n",
       "      <td>-3.0</td>\n",
       "      <td>0.0</td>\n",
       "      <td>300.0</td>\n",
       "      <td>0.1</td>\n",
       "      <td>0</td>\n",
       "      <td>383</td>\n",
       "      <td>16.8</td>\n",
       "      <td>30.5</td>\n",
       "      <td>966</td>\n",
       "      <td>-3.0</td>\n",
       "      <td>-83.0</td>\n",
       "      <td>-86.0</td>\n",
       "    </tr>\n",
       "    <tr>\n",
       "      <th>5</th>\n",
       "      <td>2019-10-01 00:05:00</td>\n",
       "      <td>2</td>\n",
       "      <td>-2.0</td>\n",
       "      <td>0.0</td>\n",
       "      <td>0.0</td>\n",
       "      <td>0.0</td>\n",
       "      <td>-2.0</td>\n",
       "      <td>0.0</td>\n",
       "      <td>300.0</td>\n",
       "      <td>0.2</td>\n",
       "      <td>0</td>\n",
       "      <td>383</td>\n",
       "      <td>16.9</td>\n",
       "      <td>30.5</td>\n",
       "      <td>966</td>\n",
       "      <td>-2.0</td>\n",
       "      <td>-83.0</td>\n",
       "      <td>-85.0</td>\n",
       "    </tr>\n",
       "    <tr>\n",
       "      <th>6</th>\n",
       "      <td>2019-10-01 00:06:00</td>\n",
       "      <td>2</td>\n",
       "      <td>-2.0</td>\n",
       "      <td>0.0</td>\n",
       "      <td>0.0</td>\n",
       "      <td>0.0</td>\n",
       "      <td>-2.0</td>\n",
       "      <td>0.0</td>\n",
       "      <td>300.0</td>\n",
       "      <td>0.2</td>\n",
       "      <td>0</td>\n",
       "      <td>383</td>\n",
       "      <td>16.8</td>\n",
       "      <td>30.4</td>\n",
       "      <td>966</td>\n",
       "      <td>-2.0</td>\n",
       "      <td>-83.0</td>\n",
       "      <td>-85.0</td>\n",
       "    </tr>\n",
       "    <tr>\n",
       "      <th>7</th>\n",
       "      <td>2019-10-01 00:07:00</td>\n",
       "      <td>2</td>\n",
       "      <td>-2.0</td>\n",
       "      <td>0.0</td>\n",
       "      <td>0.0</td>\n",
       "      <td>0.0</td>\n",
       "      <td>-2.0</td>\n",
       "      <td>0.0</td>\n",
       "      <td>300.0</td>\n",
       "      <td>0.1</td>\n",
       "      <td>0</td>\n",
       "      <td>384</td>\n",
       "      <td>17.0</td>\n",
       "      <td>31.0</td>\n",
       "      <td>966</td>\n",
       "      <td>-2.0</td>\n",
       "      <td>-84.0</td>\n",
       "      <td>-86.0</td>\n",
       "    </tr>\n",
       "    <tr>\n",
       "      <th>8</th>\n",
       "      <td>2019-10-01 00:08:00</td>\n",
       "      <td>2</td>\n",
       "      <td>-2.0</td>\n",
       "      <td>0.0</td>\n",
       "      <td>0.0</td>\n",
       "      <td>0.0</td>\n",
       "      <td>-2.0</td>\n",
       "      <td>0.0</td>\n",
       "      <td>300.0</td>\n",
       "      <td>0.2</td>\n",
       "      <td>0</td>\n",
       "      <td>384</td>\n",
       "      <td>16.7</td>\n",
       "      <td>30.6</td>\n",
       "      <td>966</td>\n",
       "      <td>-2.0</td>\n",
       "      <td>-84.0</td>\n",
       "      <td>-86.0</td>\n",
       "    </tr>\n",
       "    <tr>\n",
       "      <th>9</th>\n",
       "      <td>2019-10-01 00:09:00</td>\n",
       "      <td>2</td>\n",
       "      <td>-2.0</td>\n",
       "      <td>0.0</td>\n",
       "      <td>0.0</td>\n",
       "      <td>0.0</td>\n",
       "      <td>-2.0</td>\n",
       "      <td>0.0</td>\n",
       "      <td>301.0</td>\n",
       "      <td>0.3</td>\n",
       "      <td>0</td>\n",
       "      <td>384</td>\n",
       "      <td>17.1</td>\n",
       "      <td>30.6</td>\n",
       "      <td>966</td>\n",
       "      <td>-2.0</td>\n",
       "      <td>-83.0</td>\n",
       "      <td>-85.0</td>\n",
       "    </tr>\n",
       "  </tbody>\n",
       "</table>\n",
       "</div>"
      ],
      "text/plain": [
       "                  DATE  H_m  SWD_Wm2  STD_SWD  DIR_Wm2  STD_DIR  DIF_Wm2  \\\n",
       "0  2019-10-01 00:00:00    2     -3.0      0.0      0.0      0.0     -3.0   \n",
       "1  2019-10-01 00:01:00    2     -3.0      0.0      0.0      0.0     -3.0   \n",
       "2  2019-10-01 00:02:00    2     -3.0      0.0      0.0      0.0     -3.0   \n",
       "3  2019-10-01 00:03:00    2     -3.0      0.0      0.0      0.0     -3.0   \n",
       "4  2019-10-01 00:04:00    2     -3.0      0.0      0.0      0.0     -3.0   \n",
       "5  2019-10-01 00:05:00    2     -2.0      0.0      0.0      0.0     -2.0   \n",
       "6  2019-10-01 00:06:00    2     -2.0      0.0      0.0      0.0     -2.0   \n",
       "7  2019-10-01 00:07:00    2     -2.0      0.0      0.0      0.0     -2.0   \n",
       "8  2019-10-01 00:08:00    2     -2.0      0.0      0.0      0.0     -2.0   \n",
       "9  2019-10-01 00:09:00    2     -2.0      0.0      0.0      0.0     -2.0   \n",
       "\n",
       "   STD_DIF  LWD_Wm2  STD_LWD  SWU_Wm2  LWU_Wm2  T_degC    RH  P_hPa  NET_SW  \\\n",
       "0      0.0    300.0      0.1        0      383    16.2  30.7    966    -3.0   \n",
       "1      0.0    300.0      0.3        0      383    16.4  30.7    966    -3.0   \n",
       "2      0.0    300.0      0.2        0      383    16.5  30.5    966    -3.0   \n",
       "3      0.0    300.0      0.1        0      383    16.5  30.4    966    -3.0   \n",
       "4      0.0    300.0      0.1        0      383    16.8  30.5    966    -3.0   \n",
       "5      0.0    300.0      0.2        0      383    16.9  30.5    966    -2.0   \n",
       "6      0.0    300.0      0.2        0      383    16.8  30.4    966    -2.0   \n",
       "7      0.0    300.0      0.1        0      384    17.0  31.0    966    -2.0   \n",
       "8      0.0    300.0      0.2        0      384    16.7  30.6    966    -2.0   \n",
       "9      0.0    301.0      0.3        0      384    17.1  30.6    966    -2.0   \n",
       "\n",
       "   NET_LW  NET_RAD  \n",
       "0   -83.0    -86.0  \n",
       "1   -83.0    -86.0  \n",
       "2   -83.0    -86.0  \n",
       "3   -83.0    -86.0  \n",
       "4   -83.0    -86.0  \n",
       "5   -83.0    -85.0  \n",
       "6   -83.0    -85.0  \n",
       "7   -84.0    -86.0  \n",
       "8   -84.0    -86.0  \n",
       "9   -83.0    -85.0  "
      ]
     },
     "execution_count": 16,
     "metadata": {},
     "output_type": "execute_result"
    }
   ],
   "source": [
    "bsrn['NET_RAD'] = bsrn['NET_SW'] + bsrn['NET_LW']\n",
    "\n",
    "bsrn.head(10)"
   ]
  },
  {
   "cell_type": "markdown",
   "metadata": {},
   "source": [
    "d. Create a new DataFrame with the day of the month and daily mean values of shortwave incoming, shortwave outgoing, longwave incoming, longwave outgoing radiation, and net total radiation. (Hint: use masking!)."
   ]
  },
  {
   "cell_type": "code",
   "execution_count": 28,
   "metadata": {},
   "outputs": [],
   "source": [
    "bsrn['DATE'] = pd.to_datetime(bsrn['DATE'])\n",
    "bsrn.set_index('DATE', inplace = True)"
   ]
  },
  {
   "cell_type": "code",
   "execution_count": 29,
   "metadata": {},
   "outputs": [],
   "source": [
    "\n",
    "daily_rad = []\n",
    "for d in bsrn.index.day.unique():\n",
    "    avg_SWD = bsrn.SWD_Wm2[bsrn.index.day == d].mean()\n",
    "    avg_SWU = bsrn.SWU_Wm2[bsrn.index.day == d].mean()\n",
    "    avg_LWD = bsrn.LWD_Wm2[bsrn.index.day == d].mean()\n",
    "    avg_LWU = bsrn.LWU_Wm2[bsrn.index.day == d].mean()\n",
    "    avg_NET = bsrn.NET_RAD[bsrn.index.day == d].mean()\n",
    "    # Append the current day and these values to our list of daily radiation values:\n",
    "    daily_rad.append([d, avg_SWD, avg_SWU, avg_LWD, avg_LWU, avg_NET])\n",
    "\n",
    "daily_radiation = pd.DataFrame(daily_rad, columns=['day', 'SW_in', 'SW_out', 'LW_in', 'LW_out', 'NET'])"
   ]
  },
  {
   "cell_type": "code",
   "execution_count": 30,
   "metadata": {},
   "outputs": [
    {
     "data": {
      "text/html": [
       "<div>\n",
       "<style scoped>\n",
       "    .dataframe tbody tr th:only-of-type {\n",
       "        vertical-align: middle;\n",
       "    }\n",
       "\n",
       "    .dataframe tbody tr th {\n",
       "        vertical-align: top;\n",
       "    }\n",
       "\n",
       "    .dataframe thead th {\n",
       "        text-align: right;\n",
       "    }\n",
       "</style>\n",
       "<table border=\"1\" class=\"dataframe\">\n",
       "  <thead>\n",
       "    <tr style=\"text-align: right;\">\n",
       "      <th></th>\n",
       "      <th>day</th>\n",
       "      <th>SW_in</th>\n",
       "      <th>SW_out</th>\n",
       "      <th>LW_in</th>\n",
       "      <th>LW_out</th>\n",
       "      <th>NET</th>\n",
       "    </tr>\n",
       "  </thead>\n",
       "  <tbody>\n",
       "    <tr>\n",
       "      <th>0</th>\n",
       "      <td>1</td>\n",
       "      <td>325.336345</td>\n",
       "      <td>115.334028</td>\n",
       "      <td>321.219903</td>\n",
       "      <td>458.834028</td>\n",
       "      <td>72.366295</td>\n",
       "    </tr>\n",
       "    <tr>\n",
       "      <th>1</th>\n",
       "      <td>2</td>\n",
       "      <td>322.732453</td>\n",
       "      <td>113.939583</td>\n",
       "      <td>318.131341</td>\n",
       "      <td>448.486111</td>\n",
       "      <td>78.402643</td>\n",
       "    </tr>\n",
       "    <tr>\n",
       "      <th>2</th>\n",
       "      <td>3</td>\n",
       "      <td>298.635417</td>\n",
       "      <td>103.261806</td>\n",
       "      <td>330.516667</td>\n",
       "      <td>429.979861</td>\n",
       "      <td>95.910417</td>\n",
       "    </tr>\n",
       "    <tr>\n",
       "      <th>3</th>\n",
       "      <td>4</td>\n",
       "      <td>323.209173</td>\n",
       "      <td>113.222222</td>\n",
       "      <td>314.129526</td>\n",
       "      <td>439.990972</td>\n",
       "      <td>83.788153</td>\n",
       "    </tr>\n",
       "    <tr>\n",
       "      <th>4</th>\n",
       "      <td>5</td>\n",
       "      <td>296.861806</td>\n",
       "      <td>105.461806</td>\n",
       "      <td>324.660876</td>\n",
       "      <td>427.359722</td>\n",
       "      <td>88.569840</td>\n",
       "    </tr>\n",
       "  </tbody>\n",
       "</table>\n",
       "</div>"
      ],
      "text/plain": [
       "   day       SW_in      SW_out       LW_in      LW_out        NET\n",
       "0    1  325.336345  115.334028  321.219903  458.834028  72.366295\n",
       "1    2  322.732453  113.939583  318.131341  448.486111  78.402643\n",
       "2    3  298.635417  103.261806  330.516667  429.979861  95.910417\n",
       "3    4  323.209173  113.222222  314.129526  439.990972  83.788153\n",
       "4    5  296.861806  105.461806  324.660876  427.359722  88.569840"
      ]
     },
     "execution_count": 30,
     "metadata": {},
     "output_type": "execute_result"
    }
   ],
   "source": [
    "daily_radiation.head()"
   ]
  },
  {
   "cell_type": "markdown",
   "metadata": {},
   "source": [
    "# Practice 6\n",
    "a. use a list of lists to construct a DataFrame named df1 containing the data in the table below"
   ]
  },
  {
   "cell_type": "code",
   "execution_count": 22,
   "metadata": {},
   "outputs": [
    {
     "data": {
      "text/html": [
       "<div>\n",
       "<style scoped>\n",
       "    .dataframe tbody tr th:only-of-type {\n",
       "        vertical-align: middle;\n",
       "    }\n",
       "\n",
       "    .dataframe tbody tr th {\n",
       "        vertical-align: top;\n",
       "    }\n",
       "\n",
       "    .dataframe thead th {\n",
       "        text-align: right;\n",
       "    }\n",
       "</style>\n",
       "<table border=\"1\" class=\"dataframe\">\n",
       "  <thead>\n",
       "    <tr style=\"text-align: right;\">\n",
       "      <th></th>\n",
       "      <th>River</th>\n",
       "      <th>Length (km)</th>\n",
       "      <th>Drainage area (km^2)</th>\n",
       "    </tr>\n",
       "  </thead>\n",
       "  <tbody>\n",
       "    <tr>\n",
       "      <th>0</th>\n",
       "      <td>Amazon</td>\n",
       "      <td>6400</td>\n",
       "      <td>7050000</td>\n",
       "    </tr>\n",
       "    <tr>\n",
       "      <th>1</th>\n",
       "      <td>Congo</td>\n",
       "      <td>4371</td>\n",
       "      <td>4014500</td>\n",
       "    </tr>\n",
       "    <tr>\n",
       "      <th>2</th>\n",
       "      <td>Yangtze</td>\n",
       "      <td>6418</td>\n",
       "      <td>1808500</td>\n",
       "    </tr>\n",
       "    <tr>\n",
       "      <th>3</th>\n",
       "      <td>Mississippi</td>\n",
       "      <td>3730</td>\n",
       "      <td>3202230</td>\n",
       "    </tr>\n",
       "  </tbody>\n",
       "</table>\n",
       "</div>"
      ],
      "text/plain": [
       "         River  Length (km)  Drainage area (km^2)\n",
       "0       Amazon         6400               7050000\n",
       "1        Congo         4371               4014500\n",
       "2      Yangtze         6418               1808500\n",
       "3  Mississippi         3730               3202230"
      ]
     },
     "execution_count": 22,
     "metadata": {},
     "output_type": "execute_result"
    }
   ],
   "source": [
    "df1 = pd.DataFrame([['Amazon', 6400, 7050000], \n",
    "                    ['Congo', 4371, 4014500],\n",
    "                    ['Yangtze', 6418, 1808500],\n",
    "                    ['Mississippi', 3730, 3202230]],\n",
    "                    columns = ['River', 'Length (km)', 'Drainage area (km^2)'])\n",
    "\n",
    "df1.head()"
   ]
  },
  {
   "cell_type": "markdown",
   "metadata": {},
   "source": [
    "b. Use a dict to construct a DataFrame named df2 containing the data in the table below."
   ]
  },
  {
   "cell_type": "code",
   "execution_count": 23,
   "metadata": {},
   "outputs": [
    {
     "data": {
      "text/html": [
       "<div>\n",
       "<style scoped>\n",
       "    .dataframe tbody tr th:only-of-type {\n",
       "        vertical-align: middle;\n",
       "    }\n",
       "\n",
       "    .dataframe tbody tr th {\n",
       "        vertical-align: top;\n",
       "    }\n",
       "\n",
       "    .dataframe thead th {\n",
       "        text-align: right;\n",
       "    }\n",
       "</style>\n",
       "<table border=\"1\" class=\"dataframe\">\n",
       "  <thead>\n",
       "    <tr style=\"text-align: right;\">\n",
       "      <th></th>\n",
       "      <th>River</th>\n",
       "      <th>Length (km)</th>\n",
       "      <th>Drainage area (km^2)</th>\n",
       "    </tr>\n",
       "  </thead>\n",
       "  <tbody>\n",
       "    <tr>\n",
       "      <th>0</th>\n",
       "      <td>Zambezi</td>\n",
       "      <td>2574</td>\n",
       "      <td>1331000</td>\n",
       "    </tr>\n",
       "    <tr>\n",
       "      <th>1</th>\n",
       "      <td>Mekong</td>\n",
       "      <td>4023</td>\n",
       "      <td>811000</td>\n",
       "    </tr>\n",
       "    <tr>\n",
       "      <th>2</th>\n",
       "      <td>Murray</td>\n",
       "      <td>2508</td>\n",
       "      <td>1061469</td>\n",
       "    </tr>\n",
       "    <tr>\n",
       "      <th>3</th>\n",
       "      <td>Rhone</td>\n",
       "      <td>813</td>\n",
       "      <td>98000</td>\n",
       "    </tr>\n",
       "    <tr>\n",
       "      <th>4</th>\n",
       "      <td>Cubango</td>\n",
       "      <td>1056</td>\n",
       "      <td>530000</td>\n",
       "    </tr>\n",
       "  </tbody>\n",
       "</table>\n",
       "</div>"
      ],
      "text/plain": [
       "     River  Length (km)  Drainage area (km^2)\n",
       "0  Zambezi         2574               1331000\n",
       "1   Mekong         4023                811000\n",
       "2   Murray         2508               1061469\n",
       "3    Rhone          813                 98000\n",
       "4  Cubango         1056                530000"
      ]
     },
     "execution_count": 23,
     "metadata": {},
     "output_type": "execute_result"
    }
   ],
   "source": [
    "df2 = pd.DataFrame({'River': ['Zambezi', 'Mekong', 'Murray', 'Rhone', 'Cubango'],\n",
    "                    'Length (km)': [2574, 4023, 2508, 813, 1056],\n",
    "                    'Drainage area (km^2)': [1331000, 811000, 1061469, 98000, 530000]})\n",
    "\n",
    "df2"
   ]
  },
  {
   "cell_type": "markdown",
   "metadata": {},
   "source": [
    "c. Concatenate df1 and df2 into a new DataFrame with all 9 rivers."
   ]
  },
  {
   "cell_type": "code",
   "execution_count": 24,
   "metadata": {},
   "outputs": [
    {
     "data": {
      "text/html": [
       "<div>\n",
       "<style scoped>\n",
       "    .dataframe tbody tr th:only-of-type {\n",
       "        vertical-align: middle;\n",
       "    }\n",
       "\n",
       "    .dataframe tbody tr th {\n",
       "        vertical-align: top;\n",
       "    }\n",
       "\n",
       "    .dataframe thead th {\n",
       "        text-align: right;\n",
       "    }\n",
       "</style>\n",
       "<table border=\"1\" class=\"dataframe\">\n",
       "  <thead>\n",
       "    <tr style=\"text-align: right;\">\n",
       "      <th></th>\n",
       "      <th>River</th>\n",
       "      <th>Length (km)</th>\n",
       "      <th>Drainage area (km^2)</th>\n",
       "    </tr>\n",
       "  </thead>\n",
       "  <tbody>\n",
       "    <tr>\n",
       "      <th>0</th>\n",
       "      <td>Amazon</td>\n",
       "      <td>6400</td>\n",
       "      <td>7050000</td>\n",
       "    </tr>\n",
       "    <tr>\n",
       "      <th>1</th>\n",
       "      <td>Congo</td>\n",
       "      <td>4371</td>\n",
       "      <td>4014500</td>\n",
       "    </tr>\n",
       "    <tr>\n",
       "      <th>2</th>\n",
       "      <td>Yangtze</td>\n",
       "      <td>6418</td>\n",
       "      <td>1808500</td>\n",
       "    </tr>\n",
       "    <tr>\n",
       "      <th>3</th>\n",
       "      <td>Mississippi</td>\n",
       "      <td>3730</td>\n",
       "      <td>3202230</td>\n",
       "    </tr>\n",
       "    <tr>\n",
       "      <th>4</th>\n",
       "      <td>Zambezi</td>\n",
       "      <td>2574</td>\n",
       "      <td>1331000</td>\n",
       "    </tr>\n",
       "    <tr>\n",
       "      <th>5</th>\n",
       "      <td>Mekong</td>\n",
       "      <td>4023</td>\n",
       "      <td>811000</td>\n",
       "    </tr>\n",
       "    <tr>\n",
       "      <th>6</th>\n",
       "      <td>Murray</td>\n",
       "      <td>2508</td>\n",
       "      <td>1061469</td>\n",
       "    </tr>\n",
       "    <tr>\n",
       "      <th>7</th>\n",
       "      <td>Rhone</td>\n",
       "      <td>813</td>\n",
       "      <td>98000</td>\n",
       "    </tr>\n",
       "    <tr>\n",
       "      <th>8</th>\n",
       "      <td>Cubango</td>\n",
       "      <td>1056</td>\n",
       "      <td>530000</td>\n",
       "    </tr>\n",
       "  </tbody>\n",
       "</table>\n",
       "</div>"
      ],
      "text/plain": [
       "         River  Length (km)  Drainage area (km^2)\n",
       "0       Amazon         6400               7050000\n",
       "1        Congo         4371               4014500\n",
       "2      Yangtze         6418               1808500\n",
       "3  Mississippi         3730               3202230\n",
       "4      Zambezi         2574               1331000\n",
       "5       Mekong         4023                811000\n",
       "6       Murray         2508               1061469\n",
       "7        Rhone          813                 98000\n",
       "8      Cubango         1056                530000"
      ]
     },
     "execution_count": 24,
     "metadata": {},
     "output_type": "execute_result"
    }
   ],
   "source": [
    "all_rivers = pd.concat([df1, df2], ignore_index=True)\n",
    "all_rivers"
   ]
  },
  {
   "cell_type": "markdown",
   "metadata": {},
   "source": [
    "d. Create a new DataFrame rivers with the discharge, mouth, source, and continent information and add this to your DataFrame from (a) to produce a DataFrame with all of the data in the table below."
   ]
  },
  {
   "cell_type": "code",
   "execution_count": 25,
   "metadata": {},
   "outputs": [],
   "source": [
    "rivers = pd.DataFrame({'Discharge (m^2/s)':[209000,41200,30166,16792,3400,16000,767,1710,475],\n",
    "                       'Mouth': ['Atlantic Ocean', 'Atlantic Ocean', 'East China Sea', 'Gulf of Mexico', 'Indian Ocean', 'South China Sea', 'Southern Ocean', 'Mediterranean Sea', 'Okavango Delta'],\n",
    "                      'Source': ['Rio Mantaro', 'Lualaba River', 'Jianggendiru Glacier', 'Lake Itasca', 'Miomo Woodlands', 'Lasagongma Spring', 'Australian Alps', 'Rhone Glacier', 'Bie Plateau'],\n",
    "                      'Continent': ['South America', 'Africa', 'Asia', 'North America', 'Africa', 'Asia', 'Oceania', 'Europe', 'Africa']})"
   ]
  },
  {
   "cell_type": "code",
   "execution_count": 31,
   "metadata": {},
   "outputs": [
    {
     "data": {
      "text/html": [
       "<div>\n",
       "<style scoped>\n",
       "    .dataframe tbody tr th:only-of-type {\n",
       "        vertical-align: middle;\n",
       "    }\n",
       "\n",
       "    .dataframe tbody tr th {\n",
       "        vertical-align: top;\n",
       "    }\n",
       "\n",
       "    .dataframe thead th {\n",
       "        text-align: right;\n",
       "    }\n",
       "</style>\n",
       "<table border=\"1\" class=\"dataframe\">\n",
       "  <thead>\n",
       "    <tr style=\"text-align: right;\">\n",
       "      <th></th>\n",
       "      <th>River</th>\n",
       "      <th>Length (km)</th>\n",
       "      <th>Drainage area (km^2)</th>\n",
       "      <th>Discharge (m^2/s)</th>\n",
       "      <th>Mouth</th>\n",
       "      <th>Source</th>\n",
       "      <th>Continent</th>\n",
       "    </tr>\n",
       "  </thead>\n",
       "  <tbody>\n",
       "    <tr>\n",
       "      <th>0</th>\n",
       "      <td>Amazon</td>\n",
       "      <td>6400</td>\n",
       "      <td>7050000</td>\n",
       "      <td>209000</td>\n",
       "      <td>Atlantic Ocean</td>\n",
       "      <td>Rio Mantaro</td>\n",
       "      <td>South America</td>\n",
       "    </tr>\n",
       "    <tr>\n",
       "      <th>1</th>\n",
       "      <td>Congo</td>\n",
       "      <td>4371</td>\n",
       "      <td>4014500</td>\n",
       "      <td>41200</td>\n",
       "      <td>Atlantic Ocean</td>\n",
       "      <td>Lualaba River</td>\n",
       "      <td>Africa</td>\n",
       "    </tr>\n",
       "    <tr>\n",
       "      <th>2</th>\n",
       "      <td>Yangtze</td>\n",
       "      <td>6418</td>\n",
       "      <td>1808500</td>\n",
       "      <td>30166</td>\n",
       "      <td>East China Sea</td>\n",
       "      <td>Jianggendiru Glacier</td>\n",
       "      <td>Asia</td>\n",
       "    </tr>\n",
       "    <tr>\n",
       "      <th>3</th>\n",
       "      <td>Mississippi</td>\n",
       "      <td>3730</td>\n",
       "      <td>3202230</td>\n",
       "      <td>16792</td>\n",
       "      <td>Gulf of Mexico</td>\n",
       "      <td>Lake Itasca</td>\n",
       "      <td>North America</td>\n",
       "    </tr>\n",
       "    <tr>\n",
       "      <th>4</th>\n",
       "      <td>Zambezi</td>\n",
       "      <td>2574</td>\n",
       "      <td>1331000</td>\n",
       "      <td>3400</td>\n",
       "      <td>Indian Ocean</td>\n",
       "      <td>Miomo Woodlands</td>\n",
       "      <td>Africa</td>\n",
       "    </tr>\n",
       "    <tr>\n",
       "      <th>5</th>\n",
       "      <td>Mekong</td>\n",
       "      <td>4023</td>\n",
       "      <td>811000</td>\n",
       "      <td>16000</td>\n",
       "      <td>South China Sea</td>\n",
       "      <td>Lasagongma Spring</td>\n",
       "      <td>Asia</td>\n",
       "    </tr>\n",
       "    <tr>\n",
       "      <th>6</th>\n",
       "      <td>Murray</td>\n",
       "      <td>2508</td>\n",
       "      <td>1061469</td>\n",
       "      <td>767</td>\n",
       "      <td>Southern Ocean</td>\n",
       "      <td>Australian Alps</td>\n",
       "      <td>Oceania</td>\n",
       "    </tr>\n",
       "    <tr>\n",
       "      <th>7</th>\n",
       "      <td>Rhone</td>\n",
       "      <td>813</td>\n",
       "      <td>98000</td>\n",
       "      <td>1710</td>\n",
       "      <td>Mediterranean Sea</td>\n",
       "      <td>Rhone Glacier</td>\n",
       "      <td>Europe</td>\n",
       "    </tr>\n",
       "    <tr>\n",
       "      <th>8</th>\n",
       "      <td>Cubango</td>\n",
       "      <td>1056</td>\n",
       "      <td>530000</td>\n",
       "      <td>475</td>\n",
       "      <td>Okavango Delta</td>\n",
       "      <td>Bie Plateau</td>\n",
       "      <td>Africa</td>\n",
       "    </tr>\n",
       "  </tbody>\n",
       "</table>\n",
       "</div>"
      ],
      "text/plain": [
       "         River  Length (km)  Drainage area (km^2)  Discharge (m^2/s)  \\\n",
       "0       Amazon         6400               7050000             209000   \n",
       "1        Congo         4371               4014500              41200   \n",
       "2      Yangtze         6418               1808500              30166   \n",
       "3  Mississippi         3730               3202230              16792   \n",
       "4      Zambezi         2574               1331000               3400   \n",
       "5       Mekong         4023                811000              16000   \n",
       "6       Murray         2508               1061469                767   \n",
       "7        Rhone          813                 98000               1710   \n",
       "8      Cubango         1056                530000                475   \n",
       "\n",
       "               Mouth                Source      Continent  \n",
       "0     Atlantic Ocean           Rio Mantaro  South America  \n",
       "1     Atlantic Ocean         Lualaba River         Africa  \n",
       "2     East China Sea  Jianggendiru Glacier           Asia  \n",
       "3     Gulf of Mexico           Lake Itasca  North America  \n",
       "4       Indian Ocean       Miomo Woodlands         Africa  \n",
       "5    South China Sea     Lasagongma Spring           Asia  \n",
       "6     Southern Ocean       Australian Alps        Oceania  \n",
       "7  Mediterranean Sea         Rhone Glacier         Europe  \n",
       "8     Okavango Delta           Bie Plateau         Africa  "
      ]
     },
     "execution_count": 31,
     "metadata": {},
     "output_type": "execute_result"
    }
   ],
   "source": [
    "complete_rivers = pd.concat([all_rivers, rivers], axis=1) # concatenate everything together, by rows\n",
    "\n",
    "complete_rivers"
   ]
  },
  {
   "cell_type": "markdown",
   "metadata": {},
   "source": [
    "# Practice 7\n",
    "Use the plt module to create a visualization of your radiation data and/or the rivers data. There are examples of plotting functions from our prior exercises. Also, don’t be afraid to experiment or try using GitHub CoPilot or ChatGPT to generate some intial code."
   ]
  },
  {
   "cell_type": "code",
   "execution_count": 64,
   "metadata": {},
   "outputs": [
    {
     "data": {
      "image/png": "[encoded data removed]",
      "text/plain": [
       "<Figure size 640x480 with 1 Axes>"
      ]
     },
     "metadata": {},
     "output_type": "display_data"
    }
   ],
   "source": [
    "color_map = {\n",
    "    'Africa': 'blue',\n",
    "    'South America': 'green',\n",
    "    'North America': 'red',\n",
    "    'Oceania': 'purple',\n",
    "    'Asia': 'orange',\n",
    "    'Europe': 'pink'\n",
    "}\n",
    "\n",
    "complete_rivers['Color'] = complete_rivers['Continent'].map(color_map)\n",
    "\n",
    "plt.barh(complete_rivers['River'], complete_rivers['Discharge (m^2/s)'], color=complete_rivers['Color'].tolist())\n",
    "\n",
    "# Adding title and labels\n",
    "plt.title('Discharge of Different Rivers')\n",
    "plt.xlabel('Discharge (m^3/s)')\n",
    "plt.ylabel('River')\n",
    "\n",
    "# Custom legend for continents\n",
    "from matplotlib.lines import Line2D\n",
    "custom_lines = [Line2D([0], [0], color=color_map[key], lw=4) for key in color_map]\n",
    "plt.legend(custom_lines, color_map.keys())\n",
    "\n",
    "# Displaying the plot\n",
    "plt.tight_layout()\n",
    "plt.show()"
   ]
  },
  {
   "cell_type": "code",
   "execution_count": 68,
   "metadata": {},
   "outputs": [
    {
     "data": {
      "image/png": "[encoded data removed]",
      "text/plain": [
       "<Figure size 640x480 with 1 Axes>"
      ]
     },
     "metadata": {},
     "output_type": "display_data"
    }
   ],
   "source": [
    "daily_radiation.plot(kind='scatter', x='day', y='NET',\n",
    "                     ylim=(0, 120))\n",
    "\n",
    "# Adding title and labels\n",
    "plt.title('Net radiation in October 2019')\n",
    "plt.xlabel('Day')\n",
    "plt.ylabel('Net Radiation')\n",
    "\n",
    "# Displaying the plot\n",
    "plt.tight_layout()\n",
    "plt.show()"
   ]
  },
  {
   "cell_type": "code",
   "execution_count": null,
   "metadata": {},
   "outputs": [],
   "source": [
    "# Plotting the first DataFrame using the date index\n",
    "df['Value'].plot(label='Value from df', linestyle='-', marker='o')\n",
    "\n",
    "# Plotting the second DataFrame by specifying x (date) and y values\n",
    "plt.plot(df2['Date'], df2['Another Value'], label='Value from df2', linestyle='--', marker='x')\n",
    "\n",
    "plt.title('Values Over Time')\n",
    "plt.ylabel('Value')\n",
    "plt.xlabel('Date')\n",
    "plt.legend()  # Display the legend\n",
    "plt.tight_layout()\n",
    "plt.show()"
   ]
  },
  {
   "cell_type": "code",
   "execution_count": 73,
   "metadata": {},
   "outputs": [
    {
     "data": {
      "image/png": "[encoded data removed]",
      "text/plain": [
       "<Figure size 640x480 with 1 Axes>"
      ]
     },
     "metadata": {},
     "output_type": "display_data"
    }
   ],
   "source": [
    "bsrn['NET_RAD'].plot()\n",
    "plt.plot(daily_radiation['day'], daily_radiation['NET'], color = 'red')\n",
    "\n",
    "plt.show()"
   ]
  },
  {
   "cell_type": "markdown",
   "metadata": {},
   "source": [
    "# Practice 8\n",
    "a. Export your rivers DataFrame to a CSV file in your repository’s data folder.\n",
    "\n"
   ]
  },
  {
   "cell_type": "code",
   "execution_count": 40,
   "metadata": {},
   "outputs": [],
   "source": [
    "complete_rivers.to_csv('../data/rivers.csv', index=False)"
   ]
  },
  {
   "cell_type": "markdown",
   "metadata": {},
   "source": [
    "b. Export your bsrn DataFrame to a CSV file in your repository’s data folder."
   ]
  },
  {
   "cell_type": "code",
   "execution_count": 42,
   "metadata": {},
   "outputs": [],
   "source": [
    "bsrn.to_csv('../data/bsrn.csv', index=False)"
   ]
  }
 ],
 "metadata": {
  "kernelspec": {
   "display_name": "eds217_2023",
   "language": "python",
   "name": "python3"
  },
  "language_info": {
   "codemirror_mode": {
    "name": "ipython",
    "version": 3
   },
   "file_extension": ".py",
   "mimetype": "text/x-python",
   "name": "python",
   "nbconvert_exporter": "python",
   "pygments_lexer": "ipython3",
   "version": "3.10.12"
  },
  "orig_nbformat": 4
 },
 "nbformat": 4,
 "nbformat_minor": 2
}
